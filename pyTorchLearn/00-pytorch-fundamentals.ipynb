{
 "cells": [
  {
   "cell_type": "code",
   "execution_count": 4,
   "metadata": {},
   "outputs": [
    {
     "name": "stdout",
     "output_type": "stream",
     "text": [
      "2.3.0\n",
      "False\n",
      "False\n"
     ]
    }
   ],
   "source": [
    "import torch\n",
    "print(torch.__version__)\n",
    "print(torch.backends.mps.is_available()) #the MacOS is higher than 12.3+\n",
    "print(torch.backends.mps.is_built())"
   ]
  },
  {
   "cell_type": "code",
   "execution_count": 5,
   "metadata": {},
   "outputs": [
    {
     "data": {
      "text/plain": [
       "tensor([[ 1.0101, -1.8567,  1.5543, -0.7686,  2.7869],\n",
       "        [-1.0396,  0.6201, -1.7663,  0.5815, -0.9948],\n",
       "        [ 2.8278, -0.4240,  0.5568, -0.9027,  0.2844],\n",
       "        [-1.4379, -1.7056,  0.2929,  0.5584,  1.0655]])"
      ]
     },
     "execution_count": 5,
     "metadata": {},
     "output_type": "execute_result"
    }
   ],
   "source": [
    "#Creating range of tensors and tensors-like\n",
    "rng = torch.arange(1, 100, 0.5)\n",
    "rng.ndim, rng.shape\n",
    "zeros = torch.zeros_like(rng)\n",
    "zeros.ndim, zeros.shape\n",
    "rand = torch.randn(4, 5)\n",
    "rand"
   ]
  },
  {
   "cell_type": "markdown",
   "metadata": {},
   "source": [
    "#### Tensor Datatypes"
   ]
  },
  {
   "cell_type": "code",
   "execution_count": 7,
   "metadata": {},
   "outputs": [
    {
     "name": "stdout",
     "output_type": "stream",
     "text": [
      "<class 'torch.device'>\n",
      "macOS-14.5-arm64-arm-64bit\n",
      "False\n"
     ]
    }
   ],
   "source": [
    "import platform\n",
    "print(torch.device)\n",
    "print(platform.platform())\n",
    "print(torch.backends.mps.is_available())\n",
    "float_32_tensor = torch.tensor([1, 2, 3, 4, 4], dtype=None, pin_memory=False)\n"
   ]
  },
  {
   "cell_type": "code",
   "execution_count": null,
   "metadata": {},
   "outputs": [],
   "source": []
  }
 ],
 "metadata": {
  "kernelspec": {
   "display_name": "mlenv",
   "language": "python",
   "name": "python3"
  },
  "language_info": {
   "codemirror_mode": {
    "name": "ipython",
    "version": 3
   },
   "file_extension": ".py",
   "mimetype": "text/x-python",
   "name": "python",
   "nbconvert_exporter": "python",
   "pygments_lexer": "ipython3",
   "version": "3.11.9"
  }
 },
 "nbformat": 4,
 "nbformat_minor": 2
}
